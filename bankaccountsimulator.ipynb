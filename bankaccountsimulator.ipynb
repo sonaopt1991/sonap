{
  "nbformat": 4,
  "nbformat_minor": 0,
  "metadata": {
    "colab": {
      "provenance": [],
      "authorship_tag": "ABX9TyN9UL7aeFOYlZ8XLoekoXJ9",
      "include_colab_link": true
    },
    "kernelspec": {
      "name": "python3",
      "display_name": "Python 3"
    },
    "language_info": {
      "name": "python"
    }
  },
  "cells": [
    {
      "cell_type": "markdown",
      "metadata": {
        "id": "view-in-github",
        "colab_type": "text"
      },
      "source": [
        "<a href=\"https://colab.research.google.com/github/sonaopt1991/sonap/blob/main/bankaccountsimulator.ipynb\" target=\"_parent\"><img src=\"https://colab.research.google.com/assets/colab-badge.svg\" alt=\"Open In Colab\"/></a>"
      ]
    },
    {
      "cell_type": "code",
      "execution_count": 3,
      "metadata": {
        "colab": {
          "base_uri": "https://localhost:8080/"
        },
        "id": "P0znI5OCW-oB",
        "outputId": "e7689aab-6948-483c-ea93-46a0249fbec5"
      },
      "outputs": [
        {
          "output_type": "stream",
          "name": "stdout",
          "text": [
            "deposited to your account $ 100\n",
            "new balance $ 1100\n",
            "withdraw $ 300\n",
            "new balance $ 800\n",
            "balance in your account $ 800\n"
          ]
        }
      ],
      "source": [
        "class bankaccount():\n",
        "    def __init__(account,initial_balance=0):\n",
        "      account.balance=initial_balance\n",
        "    def get_balance(account):\n",
        "        print(\"balance in your account $\",account.balance)\n",
        "    def withdraw(account,withdraw_amount):\n",
        "        if withdraw_amount<=account.balance:\n",
        "            account.balance -=withdraw_amount\n",
        "            print(\"withdraw $\",withdraw_amount )\n",
        "            print(\"new balance $\",account.balance)\n",
        "        else:\n",
        "            print(\"insufficient balance\")\n",
        "    def deposit(account,deposit_amount):\n",
        "        account.balance +=deposit_amount\n",
        "        print(\"deposited to your account $\",deposit_amount )\n",
        "        print(\"new balance $\",account.balance)\n",
        "my_account=bankaccount(1000)\n",
        "my_account.deposit(100)\n",
        "my_account.withdraw(300)\n",
        "my_account.get_balance()\n",
        "\n",
        "\n"
      ]
    }
  ]
}