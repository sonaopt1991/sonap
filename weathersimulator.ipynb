{
  "nbformat": 4,
  "nbformat_minor": 0,
  "metadata": {
    "colab": {
      "provenance": [],
      "authorship_tag": "ABX9TyMCVFR0OXTI7B9kvqB3/cg7",
      "include_colab_link": true
    },
    "kernelspec": {
      "name": "python3",
      "display_name": "Python 3"
    },
    "language_info": {
      "name": "python"
    }
  },
  "cells": [
    {
      "cell_type": "markdown",
      "metadata": {
        "id": "view-in-github",
        "colab_type": "text"
      },
      "source": [
        "<a href=\"https://colab.research.google.com/github/sonaopt1991/sonap/blob/main/weathersimulator.ipynb\" target=\"_parent\"><img src=\"https://colab.research.google.com/assets/colab-badge.svg\" alt=\"Open In Colab\"/></a>"
      ]
    },
    {
      "cell_type": "code",
      "execution_count": null,
      "metadata": {
        "id": "3kYh0z3J-Cn0"
      },
      "outputs": [],
      "source": [
        "##weather simulator"
      ]
    },
    {
      "cell_type": "code",
      "source": [
        "Weather_data={\"day1\":{\"temp\":18,\"humid\":50},\n",
        "              \"day2\":{\"temp\":20,\"humid\":50},\n",
        "              \"day3\":{\"temp\":25,\"humid\":60},\n",
        "              \"day4\":{\"temp\":35,\"humid\":30},\n",
        "              \"day5\":{\"temp\":40,\"humid\":28},\n",
        "              \"day6\":{\"temp\":36,\"humid\":30},\n",
        "              \"day7\":{\"temp\":39,\"humid\":29}}\n",
        "def avg_temperature(data):\n",
        "  total_temp=0\n",
        "  for day in data:\n",
        "     total_temp+=data[day][\"temp\"]\n",
        "  avg_temp=total_temp/len(data)\n",
        "  return(avg_temp)\n",
        "def avg_humidity(data):\n",
        "    total_humid=0\n",
        "    for day in data:\n",
        "     total_humid+=data[day][\"humid\"]\n",
        "    avg_humid=total_humid/len(data)\n",
        "    return(avg_humid)\n",
        "average_temperature=avg_temperature(Weather_data)\n",
        "average_humidity=avg_humidity(Weather_data)\n",
        "print(\"average temperature of the region is\",average_temperature)\n",
        "print(\"average humidity of the region is \",average_humidity)\n",
        "#weather condition\n",
        "def weather_condition(temp,humid):\n",
        "  if temp > 25 and humid < 60:\n",
        "    return \"Sunny\"\n",
        "  elif temp <= 25 and humid >= 60:\n",
        "    return \"Rainy\"\n",
        "  else:\n",
        "    return \"Cloudy\"\n",
        "for day in Weather_data:\n",
        "  temp1=Weather_data[day][\"temp\"]\n",
        "  humid1=Weather_data[day][\"humid\"]\n",
        "  Weather=weather_condition(temp1,humid1)\n",
        "  print(f\"weather condition for {day}:{Weather}\")\n",
        "\n",
        "\n",
        "\n"
      ],
      "metadata": {
        "colab": {
          "base_uri": "https://localhost:8080/"
        },
        "id": "RurtYugB-kdK",
        "outputId": "253058fc-1f57-4292-9248-4c6a7d377199"
      },
      "execution_count": 11,
      "outputs": [
        {
          "output_type": "stream",
          "name": "stdout",
          "text": [
            "average temperature of the region is 30.428571428571427\n",
            "average humidity of the region is  39.57142857142857\n",
            "weather condition for day1:Cloudy\n",
            "weather condition for day2:Cloudy\n",
            "weather condition for day3:Rainy\n",
            "weather condition for day4:Sunny\n",
            "weather condition for day5:Sunny\n",
            "weather condition for day6:Sunny\n",
            "weather condition for day7:Sunny\n"
          ]
        }
      ]
    }
  ]
}